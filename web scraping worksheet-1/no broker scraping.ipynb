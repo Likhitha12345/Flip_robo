{
 "cells": [
  {
   "cell_type": "code",
   "execution_count": 1,
   "metadata": {},
   "outputs": [],
   "source": [
    "from bs4 import BeautifulSoup\n",
    "import requests"
   ]
  },
  {
   "cell_type": "code",
   "execution_count": 3,
   "metadata": {},
   "outputs": [],
   "source": [
    "page = requests.get(\"https://www.nobroker.in/property/sale/bangalore/Bangalore?searchParam=W3sibGF0IjoxMi45NzE1OTg3LCJsb24iOjc3LjU5NDU2MjcsInBsYWNlSWQiOiJDaElKYlU2MHlYQVdyanNSNEU5LVVlakQzX2ciLCJwbGFjZU5hbWUiOiJCYW5nYWxvcmUifV0=&radius=2.0&type=BHK4&price=63900000,81720000\")\n",
    "soup = BeautifulSoup(page.content, 'html.parser')"
   ]
  },
  {
   "cell_type": "code",
   "execution_count": 4,
   "metadata": {},
   "outputs": [],
   "source": [
    "house_title = soup.find_all('h2' , class_ = 'heading-6 font-semi-bold nb__1AShY')\n",
    "house_title = [i.get_text() for i in house_title]"
   ]
  },
  {
   "cell_type": "code",
   "execution_count": 6,
   "metadata": {},
   "outputs": [],
   "source": [
    "area = soup.find_all('div' , class_ = 'nb__3oNyC')\n",
    "area = [i.get_text() for i in area]"
   ]
  },
  {
   "cell_type": "code",
   "execution_count": 7,
   "metadata": {},
   "outputs": [],
   "source": [
    "location = soup.find_all('div' , class_ = 'nb__2CMjv')\n",
    "location = [i.get_text() for i in location]"
   ]
  },
  {
   "cell_type": "code",
   "execution_count": 9,
   "metadata": {},
   "outputs": [],
   "source": [
    "EMI_price = soup.find_all('div' , class_ = 'font-semi-bold heading-6')\n",
    "EMI_price = [i.get_text() for i in EMI_price]"
   ]
  },
  {
   "cell_type": "code",
   "execution_count": 10,
   "metadata": {},
   "outputs": [],
   "source": [
    "count = 0\n",
    "EMI = []\n",
    "price = []\n",
    "starts = []\n",
    "for i in EMI_price:\n",
    "    if count % 3 == 0:\n",
    "        starts.append(i)\n",
    "    count = count+1\n",
    "for l in EMI_price:\n",
    "    if count % 3 == 1:\n",
    "        EMI.append(l)\n",
    "    count = count+1\n",
    "for k in EMI_price:\n",
    "    if count % 3 == 2:\n",
    "        price.append(k)\n",
    "    count += 1"
   ]
  },
  {
   "cell_type": "code",
   "execution_count": 13,
   "metadata": {},
   "outputs": [],
   "source": [
    "import pandas as pd\n",
    "job = pd.DataFrame({})\n",
    "job[\"house title\"] = house_title\n",
    "job[\"location\"] = location\n",
    "job[\"area\"] = area\n",
    "job[\"EMI\"] = EMI\n",
    "job[\"price\"] = price"
   ]
  },
  {
   "cell_type": "code",
   "execution_count": 14,
   "metadata": {},
   "outputs": [
    {
     "data": {
      "text/html": [
       "<div>\n",
       "<style scoped>\n",
       "    .dataframe tbody tr th:only-of-type {\n",
       "        vertical-align: middle;\n",
       "    }\n",
       "\n",
       "    .dataframe tbody tr th {\n",
       "        vertical-align: top;\n",
       "    }\n",
       "\n",
       "    .dataframe thead th {\n",
       "        text-align: right;\n",
       "    }\n",
       "</style>\n",
       "<table border=\"1\" class=\"dataframe\">\n",
       "  <thead>\n",
       "    <tr style=\"text-align: right;\">\n",
       "      <th></th>\n",
       "      <th>house title</th>\n",
       "      <th>location</th>\n",
       "      <th>area</th>\n",
       "      <th>EMI</th>\n",
       "      <th>price</th>\n",
       "    </tr>\n",
       "  </thead>\n",
       "  <tbody>\n",
       "    <tr>\n",
       "      <th>0</th>\n",
       "      <td>4 BHK In Independent House  For Sale  In Dodda...</td>\n",
       "      <td>Independent House, Basava Nagar Main Rd, Adars...</td>\n",
       "      <td>2,818 sqft</td>\n",
       "      <td>₹3.73 Lacs/Month</td>\n",
       "      <td>₹6.5 Crores</td>\n",
       "    </tr>\n",
       "    <tr>\n",
       "      <th>1</th>\n",
       "      <td>4 BHK In Independent House  For Sale  In Stand...</td>\n",
       "      <td>Mahalakshmipuram, Near  Mahalakshmipuram Polic...</td>\n",
       "      <td>4,500 sqft</td>\n",
       "      <td>₹4.3 Lacs/Month</td>\n",
       "      <td>₹7.5 Crores</td>\n",
       "    </tr>\n",
       "    <tr>\n",
       "      <th>2</th>\n",
       "      <td>4 BHK Flat  For Sale  In Standalone Building  ...</td>\n",
       "      <td>6th Cross Rd, 6th Block, Near  The Koramangala...</td>\n",
       "      <td>5,700 sqft</td>\n",
       "      <td>₹4.3 Lacs/Month</td>\n",
       "      <td>₹7.5 Crores</td>\n",
       "    </tr>\n",
       "    <tr>\n",
       "      <th>3</th>\n",
       "      <td>4 BHK In Independent House  For Sale  In Krish...</td>\n",
       "      <td>Independent House, Old Madras Rd,  Behind Offi...</td>\n",
       "      <td>2,400 sqft</td>\n",
       "      <td>₹4.01 Lacs/Month</td>\n",
       "      <td>₹7 Crores</td>\n",
       "    </tr>\n",
       "    <tr>\n",
       "      <th>4</th>\n",
       "      <td>4 BHK In Independent House  For Sale  In Basav...</td>\n",
       "      <td>Independent House, Maruthi Court 2nd Main Road...</td>\n",
       "      <td>4,500 sqft</td>\n",
       "      <td>₹4.01 Lacs/Month</td>\n",
       "      <td>₹6.99 Crores</td>\n",
       "    </tr>\n",
       "    <tr>\n",
       "      <th>5</th>\n",
       "      <td>4 BHK Flat  For Sale  In  Rajajinagar</td>\n",
       "      <td>Standalone Building, Yeshwanthpur, Near Columb...</td>\n",
       "      <td>2,700 sqft</td>\n",
       "      <td>₹4.01 Lacs/Month</td>\n",
       "      <td>₹7 Crores</td>\n",
       "    </tr>\n",
       "    <tr>\n",
       "      <th>6</th>\n",
       "      <td>4 BHK Flat  For Sale  In Sultanpet</td>\n",
       "      <td>Standalone Building, Sultanpete Main Road, Nea...</td>\n",
       "      <td>3,520 sqft</td>\n",
       "      <td>₹4.01 Lacs/Month</td>\n",
       "      <td>₹7 Crores</td>\n",
       "    </tr>\n",
       "    <tr>\n",
       "      <th>7</th>\n",
       "      <td>4 BHK For Sale  In Pattandur Agrahara Prestige...</td>\n",
       "      <td>Pattandur Agrahara Prestige White Meadows  Whi...</td>\n",
       "      <td>5,000 sqft</td>\n",
       "      <td>₹3.73 Lacs/Month</td>\n",
       "      <td>₹6.5 Crores</td>\n",
       "    </tr>\n",
       "    <tr>\n",
       "      <th>8</th>\n",
       "      <td>4 BHK In Independent House  For Sale  In Indir...</td>\n",
       "      <td>Independent House, Binnamangala,  near to Chai...</td>\n",
       "      <td>2,550 sqft</td>\n",
       "      <td>₹4.13 Lacs/Month</td>\n",
       "      <td>₹7.2 Crores</td>\n",
       "    </tr>\n",
       "    <tr>\n",
       "      <th>9</th>\n",
       "      <td>4 BHK Flat  For Sale  In Total Environment Lea...</td>\n",
       "      <td>15th Cross, JP Nagar, Bangalore, Karnataka, IN...</td>\n",
       "      <td>5,249 sqft</td>\n",
       "      <td>₹3.66 Lacs/Month</td>\n",
       "      <td>₹6.39 Crores</td>\n",
       "    </tr>\n",
       "  </tbody>\n",
       "</table>\n",
       "</div>"
      ],
      "text/plain": [
       "                                         house title  \\\n",
       "0  4 BHK In Independent House  For Sale  In Dodda...   \n",
       "1  4 BHK In Independent House  For Sale  In Stand...   \n",
       "2  4 BHK Flat  For Sale  In Standalone Building  ...   \n",
       "3  4 BHK In Independent House  For Sale  In Krish...   \n",
       "4  4 BHK In Independent House  For Sale  In Basav...   \n",
       "5             4 BHK Flat  For Sale  In  Rajajinagar    \n",
       "6                4 BHK Flat  For Sale  In Sultanpet    \n",
       "7  4 BHK For Sale  In Pattandur Agrahara Prestige...   \n",
       "8  4 BHK In Independent House  For Sale  In Indir...   \n",
       "9  4 BHK Flat  For Sale  In Total Environment Lea...   \n",
       "\n",
       "                                            location        area  \\\n",
       "0  Independent House, Basava Nagar Main Rd, Adars...  2,818 sqft   \n",
       "1  Mahalakshmipuram, Near  Mahalakshmipuram Polic...  4,500 sqft   \n",
       "2  6th Cross Rd, 6th Block, Near  The Koramangala...  5,700 sqft   \n",
       "3  Independent House, Old Madras Rd,  Behind Offi...  2,400 sqft   \n",
       "4  Independent House, Maruthi Court 2nd Main Road...  4,500 sqft   \n",
       "5  Standalone Building, Yeshwanthpur, Near Columb...  2,700 sqft   \n",
       "6  Standalone Building, Sultanpete Main Road, Nea...  3,520 sqft   \n",
       "7  Pattandur Agrahara Prestige White Meadows  Whi...  5,000 sqft   \n",
       "8  Independent House, Binnamangala,  near to Chai...  2,550 sqft   \n",
       "9  15th Cross, JP Nagar, Bangalore, Karnataka, IN...  5,249 sqft   \n",
       "\n",
       "                EMI         price  \n",
       "0  ₹3.73 Lacs/Month   ₹6.5 Crores  \n",
       "1   ₹4.3 Lacs/Month   ₹7.5 Crores  \n",
       "2   ₹4.3 Lacs/Month   ₹7.5 Crores  \n",
       "3  ₹4.01 Lacs/Month     ₹7 Crores  \n",
       "4  ₹4.01 Lacs/Month  ₹6.99 Crores  \n",
       "5  ₹4.01 Lacs/Month     ₹7 Crores  \n",
       "6  ₹4.01 Lacs/Month     ₹7 Crores  \n",
       "7  ₹3.73 Lacs/Month   ₹6.5 Crores  \n",
       "8  ₹4.13 Lacs/Month   ₹7.2 Crores  \n",
       "9  ₹3.66 Lacs/Month  ₹6.39 Crores  "
      ]
     },
     "execution_count": 14,
     "metadata": {},
     "output_type": "execute_result"
    }
   ],
   "source": [
    "job"
   ]
  },
  {
   "cell_type": "code",
   "execution_count": null,
   "metadata": {},
   "outputs": [],
   "source": []
  }
 ],
 "metadata": {
  "kernelspec": {
   "display_name": "Python 3",
   "language": "python",
   "name": "python3"
  },
  "language_info": {
   "codemirror_mode": {
    "name": "ipython",
    "version": 3
   },
   "file_extension": ".py",
   "mimetype": "text/x-python",
   "name": "python",
   "nbconvert_exporter": "python",
   "pygments_lexer": "ipython3",
   "version": "3.8.5"
  }
 },
 "nbformat": 4,
 "nbformat_minor": 4
}
