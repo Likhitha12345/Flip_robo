{
 "cells": [
  {
   "cell_type": "code",
   "execution_count": 2,
   "metadata": {},
   "outputs": [],
   "source": [
    "from bs4 import BeautifulSoup\n",
    "import requests"
   ]
  },
  {
   "cell_type": "code",
   "execution_count": 3,
   "metadata": {},
   "outputs": [],
   "source": [
    "page = requests.get(\"https://www.imdb.com/list/ls009997493/\")\n",
    "soup = BeautifulSoup(page.content, 'html.parser')"
   ]
  },
  {
   "cell_type": "code",
   "execution_count": 4,
   "metadata": {},
   "outputs": [],
   "source": [
    "data = soup.find_all(\"h3\" , class_ = \"lister-item-header\")"
   ]
  },
  {
   "cell_type": "code",
   "execution_count": 5,
   "metadata": {},
   "outputs": [],
   "source": [
    "data = [i.get_text() for i in data]"
   ]
  },
  {
   "cell_type": "code",
   "execution_count": 6,
   "metadata": {},
   "outputs": [
    {
     "data": {
      "text/plain": [
       "['\\n1.\\nRang De Basanti\\n(2006)\\n',\n",
       " '\\n2.\\n3 Idiots\\n(2009)\\n',\n",
       " '\\n3.\\nTaare Zameen Par\\n(2007)\\n',\n",
       " '\\n4.\\nDil Chahta Hai\\n(2001)\\n',\n",
       " '\\n5.\\nSwades: We, the People\\n(2004)\\n',\n",
       " '\\n6.\\nLagaan: Once Upon a Time in India\\n(2001)\\n',\n",
       " '\\n7.\\nGangs of Wasseypur\\n(2012)\\n',\n",
       " '\\n8.\\nBarfi!\\n(2012)\\n',\n",
       " '\\n9.\\nAnand\\n(1971)\\n',\n",
       " '\\n10.\\nMunna Bhai M.B.B.S.\\n(2003)\\n',\n",
       " '\\n11.\\nA Wednesday\\n(2008)\\n',\n",
       " '\\n12.\\nAndaz Apna Apna\\n(1994)\\n',\n",
       " '\\n13.\\nSholay\\n(1975)\\n',\n",
       " '\\n14.\\nBhaag Milkha Bhaag\\n(2013)\\n',\n",
       " '\\n15.\\nHera Pheri\\n(2000)\\n',\n",
       " '\\n16.\\nUdaan\\n(2010)\\n',\n",
       " '\\n17.\\nKahaani\\n(2012)\\n',\n",
       " '\\n18.\\nBlack\\n(2005)\\n',\n",
       " '\\n19.\\nChak De! India\\n(2007)\\n',\n",
       " '\\n20.\\nKhosla Ka Ghosla!\\n(2006)\\n',\n",
       " '\\n21.\\nJo Jeeta Wohi Sikandar\\n(1992)\\n',\n",
       " '\\n22.\\nZindagi Na Milegi Dobara\\n(2011)\\n',\n",
       " '\\n23.\\nPaan Singh Tomar\\n(2012)\\n',\n",
       " '\\n24.\\nDilwale Dulhania Le Jayenge\\n(1995)\\n',\n",
       " '\\n25.\\nOmkara\\n(2006)\\n',\n",
       " '\\n26.\\nLage Raho Munna Bhai\\n(2006)\\n',\n",
       " '\\n27.\\nIqbal\\n(2005)\\n',\n",
       " '\\n28.\\nThe Lunchbox\\n(2013)\\n',\n",
       " '\\n29.\\nBlack Friday\\n(2004)\\n',\n",
       " '\\n30.\\nCompany\\n(2002)\\n',\n",
       " '\\n31.\\nGolmaal\\n(1979)\\n',\n",
       " '\\n32.\\nDev.D\\n(2009)\\n',\n",
       " '\\n33.\\nJaane Bhi Do Yaaro\\n(1983)\\n',\n",
       " '\\n34.\\nOMG: Oh My God!\\n(2012)\\n',\n",
       " '\\n35.\\nMughal-E-Azam\\n(1960)\\n',\n",
       " '\\n36.\\nGulaal\\n(2009)\\n',\n",
       " '\\n37.\\nDor\\n(2006)\\n',\n",
       " '\\n38.\\nJab We Met\\n(2007)\\n',\n",
       " '\\n39.\\nPyaasa\\n(1957)\\n',\n",
       " '\\n40.\\nThe Legend of Bhagat Singh\\n(2002)\\n',\n",
       " '\\n41.\\nMasoom\\n(1983)\\n',\n",
       " '\\n42.\\nSalaam Bombay!\\n(1988)\\n',\n",
       " '\\n43.\\nSatya\\n(1998)\\n',\n",
       " '\\n44.\\nVicky Donor\\n(2012)\\n',\n",
       " '\\n45.\\nLakshya\\n(2004)\\n',\n",
       " '\\n46.\\nVaastav: The Reality\\n(1999)\\n',\n",
       " '\\n47.\\nKal Ho Naa Ho\\n(2003)\\n',\n",
       " '\\n48.\\nOye Lucky! Lucky Oye!\\n(2008)\\n',\n",
       " '\\n49.\\nSarfarosh\\n(1999)\\n',\n",
       " '\\n50.\\nGangaajal\\n(2003)\\n',\n",
       " '\\n51.\\nAngoor\\n(1982)\\n',\n",
       " '\\n52.\\nMadras Cafe\\n(2013)\\n',\n",
       " '\\n53.\\nEnglish Vinglish\\n(2012)\\n',\n",
       " '\\n54.\\nChupke Chupke\\n(1975)\\n',\n",
       " '\\n55.\\nJohnny Gaddaar\\n(2007)\\n',\n",
       " '\\n56.\\nMaqbool\\n(2003)\\n',\n",
       " '\\n57.\\nHazaaron Khwaishein Aisi\\n(2003)\\n',\n",
       " '\\n58.\\nRock On!!\\n(2008)\\n',\n",
       " '\\n59.\\nDon\\n(1978)\\n',\n",
       " '\\n60.\\nChhoti Si Baat\\n(1976)\\n',\n",
       " '\\n61.\\nGuide\\n(1965)\\n',\n",
       " '\\n62.\\nRaanjhanaa\\n(2013)\\n',\n",
       " '\\n63.\\nDeewaar\\n(1975)\\n',\n",
       " '\\n64.\\nSpecial Chabbis\\n(2013)\\n',\n",
       " '\\n65.\\nPadosan\\n(1968)\\n',\n",
       " '\\n66.\\nMumbai Meri Jaan\\n(2008)\\n',\n",
       " '\\n67.\\nAb Tak Chhappan\\n(2004)\\n',\n",
       " '\\n68.\\nKai po che!\\n(2013)\\n',\n",
       " '\\n69.\\nAwaara\\n(1951)\\n',\n",
       " '\\n70.\\nShree 420\\n(1955)\\n',\n",
       " '\\n71.\\nEarth\\n(1998)\\n',\n",
       " '\\n72.\\nGunda\\n(1998)\\n',\n",
       " '\\n73.\\nParinda\\n(1989)\\n',\n",
       " '\\n74.\\nDasvidaniya\\n(2008)\\n',\n",
       " '\\n75.\\nHey Ram\\n(2000)\\n',\n",
       " '\\n76.\\nPinjar: Beyond Boundaries...\\n(2003)\\n',\n",
       " '\\n77.\\nSocha Na Tha\\n(2005)\\n',\n",
       " '\\n78.\\nGuru\\n(2007)\\n',\n",
       " '\\n79.\\nBawarchi\\n(1972)\\n',\n",
       " '\\n80.\\nManorama: Six Feet Under\\n(2007)\\n',\n",
       " '\\n81.\\nMr. India\\n(1987)\\n',\n",
       " '\\n82.\\nAamir\\n(2008)\\n',\n",
       " '\\n83.\\nZakhm\\n(1998)\\n',\n",
       " '\\n84.\\nWater\\n(I) (2005)\\n',\n",
       " '\\n85.\\nStanley Ka Dabba\\n(2011)\\n',\n",
       " '\\n86.\\nAgneepath\\n(1990)\\n',\n",
       " '\\n87.\\nMy Name Is Khan\\n(2010)\\n',\n",
       " '\\n88.\\nQayamat Se Qayamat Tak\\n(1988)\\n',\n",
       " '\\n89.\\n3 Deewarein\\n(2003)\\n',\n",
       " '\\n90.\\nAbhimaan\\n(1973)\\n',\n",
       " '\\n91.\\nSarkar\\n(2005)\\n',\n",
       " '\\n92.\\nBheja Fry\\n(2007)\\n',\n",
       " '\\n93.\\nMother India\\n(1957)\\n',\n",
       " '\\n94.\\nJaane Tu... Ya Jaane Na\\n(2008)\\n',\n",
       " '\\n95.\\nDelhi Belly\\n(2011)\\n',\n",
       " '\\n96.\\nWake Up Sid\\n(2009)\\n',\n",
       " '\\n97.\\nRangeela\\n(1995)\\n',\n",
       " '\\n98.\\nShatranj Ke Khilari\\n(1977)\\n',\n",
       " '\\n99.\\nPyaar Ka Punchnama\\n(2011)\\n',\n",
       " '\\n100.\\nEk Hasina Thi\\n(2004)\\n']"
      ]
     },
     "execution_count": 6,
     "metadata": {},
     "output_type": "execute_result"
    }
   ],
   "source": [
    "data"
   ]
  },
  {
   "cell_type": "code",
   "execution_count": null,
   "metadata": {},
   "outputs": [],
   "source": []
  }
 ],
 "metadata": {
  "kernelspec": {
   "display_name": "Python 3",
   "language": "python",
   "name": "python3"
  },
  "language_info": {
   "codemirror_mode": {
    "name": "ipython",
    "version": 3
   },
   "file_extension": ".py",
   "mimetype": "text/x-python",
   "name": "python",
   "nbconvert_exporter": "python",
   "pygments_lexer": "ipython3",
   "version": "3.8.5"
  }
 },
 "nbformat": 4,
 "nbformat_minor": 4
}
