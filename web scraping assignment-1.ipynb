{
 "cells": [
  {
   "cell_type": "markdown",
   "metadata": {},
   "source": [
    "# getting headline from wikiepedia "
   ]
  },
  {
   "cell_type": "code",
   "execution_count": 2,
   "metadata": {},
   "outputs": [],
   "source": [
    "from bs4 import BeautifulSoup\n",
    "import requests\n",
    "page = requests.get(\"https://en.wikipedia.org/wiki/Main_Page\")\n",
    "soup = BeautifulSoup(page.content, 'html.parser')\n",
    "head = soup.find_all(\"span\" , class_ = \"mw-headline\")\n",
    "data = [i.get_text() for i in head]"
   ]
  },
  {
   "cell_type": "markdown",
   "metadata": {},
   "source": [
    "# IMBD top 100 rated indian movies"
   ]
  },
  {
   "cell_type": "code",
   "execution_count": 3,
   "metadata": {},
   "outputs": [],
   "source": [
    "from bs4 import BeautifulSoup\n",
    "import requests\n",
    "page = requests.get(\"https://www.imdb.com/list/ls009997493/\")\n",
    "soup = BeautifulSoup(page.content, 'html.parser')\n",
    "data = soup.find_all(\"h3\" , class_ = \"lister-item-header\")\n",
    "data = [i.get_text() for i in data]"
   ]
  },
  {
   "cell_type": "markdown",
   "metadata": {},
   "source": [
    "# IMBD top 100 rated movies"
   ]
  },
  {
   "cell_type": "code",
   "execution_count": 4,
   "metadata": {},
   "outputs": [],
   "source": [
    "from bs4 import BeautifulSoup\n",
    "import requests\n",
    "page = requests.get(\"https://www.imdb.com/search/title/?groups=top_100&sort=user_rating,desc\")\n",
    "soup = BeautifulSoup(page.content, 'html.parser')\n",
    "fifty = soup.find_all(\"h3\" , class_ = \"lister-item-header\")\n",
    "page = requests.get(\"https://www.imdb.com/search/title/?groups=top_100&sort=user_rating,desc&start=51&ref_=adv_nxt\")\n",
    "soup = BeautifulSoup(page.content, 'html.parser')\n",
    "hundred = soup.find_all(\"h3\", class_ = \"lister-item-header\")\n",
    "hundred = [i.get_text() for i in hundred]\n",
    "fifty = [i.get_text() for i in fifty]\n",
    "import pandas as pd\n",
    "game = pd.DataFrame({})\n",
    "game[\"first fifty\"] = fifty\n",
    "game[\"the rest\"] = hundred"
   ]
  },
  {
   "cell_type": "markdown",
   "metadata": {},
   "source": [
    "# Internshala fresher jobs"
   ]
  },
  {
   "cell_type": "code",
   "execution_count": 5,
   "metadata": {},
   "outputs": [],
   "source": [
    "from bs4 import BeautifulSoup\n",
    "import requests\n",
    "page = requests.get(\"https://internshala.com/fresher-jobs\")\n",
    "soup = BeautifulSoup(page.content, 'html.parser')\n",
    "job_name = soup.find_all(\"div\" , class_ = \"heading_4_5 profile\")\n",
    "job_name = [i.get_text() for i in job_name]\n",
    "Location = soup.find_all(\"a\" , class_ = \"link_display_like_text\")\n",
    "Location = [i.get_text() for i in Location]\n",
    "start_date = soup.find_all(\"div\" , class_ = \"item_body\")\n",
    "start_date = [i.get_text() for i in start_date]\n",
    "count = 0\n",
    "starts = []\n",
    "salary = []\n",
    "apply_by = []\n",
    "for i in start_date:\n",
    "    if count % 3 == 0:\n",
    "        starts.append(i)\n",
    "    count = count+1\n",
    "for l in start_date:\n",
    "    if count % 3 == 1:\n",
    "        salary.append(l)\n",
    "    count = count+1\n",
    "for k in start_date:\n",
    "    if count % 3 == 2:\n",
    "        apply_by.append(k)\n",
    "    count += 1\n",
    "company_name = soup.find_all(\"a\" , class_ = \"link_display_like_text\")\n",
    "import pandas as pd\n",
    "job = pd.DataFrame({})\n",
    "job[\"job name\"] = job_name\n",
    "job[\"start date\"] = starts\n",
    "job[\"company name\"] = company_name\n",
    "job[\"salary\"] = salary\n",
    "job[\"apply by\"] = apply_by\n",
    "job[\"location\"] = Location\n",
    "    "
   ]
  },
  {
   "cell_type": "markdown",
   "metadata": {},
   "source": [
    "# Top 10 ODI batsmen with team"
   ]
  },
  {
   "cell_type": "code",
   "execution_count": 6,
   "metadata": {},
   "outputs": [],
   "source": [
    "from bs4 import BeautifulSoup\n",
    "import requests\n",
    "page = requests.get(\"https://www.icc-cricket.com/rankings/mens/player-rankings/odi/batting\")\n",
    "soup = BeautifulSoup(page.content, 'html.parser')\n",
    "soup.find_all(\"div\" , class_ = \"rankings-block__container full\")\n",
    "Name = soup.find_all(\"td\" , class_ = \"table-body__cell rankings-table__name name\")\n",
    "Name = [i.get_text() for i in Name]\n",
    "place = soup.find_all(\"span\" , class_ = \"table-body__logo-text\")\n",
    "place = [i.get_text() for i in place]\n",
    "rating = soup.find_all(\"td\" , class_ = \"table-body__cell rating\")\n",
    "rating = [i.get_text() for i in rating]\n",
    "import pandas as pd\n",
    "game = pd.DataFrame({})\n",
    "game[\"country\"] = place\n",
    "game[\"Name\"] = Name\n",
    "game[\"rating\"] = rating"
   ]
  },
  {
   "cell_type": "markdown",
   "metadata": {},
   "source": [
    "# Top ODI bowlers"
   ]
  },
  {
   "cell_type": "code",
   "execution_count": 7,
   "metadata": {},
   "outputs": [],
   "source": [
    "from bs4 import BeautifulSoup\n",
    "import requests\n",
    "page = requests.get(\"https://www.icc-cricket.com/rankings/mens/player-rankings/odi/bowling\")\n",
    "soup = BeautifulSoup(page.content, 'html.parser')\n",
    "soup.find_all(\"div\" , class_ = \"rankings-block__container full\")\n",
    "Name = soup.find_all(\"td\" , class_ = \"table-body__cell rankings-table__name name\")\n",
    "Name = [i.get_text() for i in Name]\n",
    "place = soup.find_all(\"span\" , class_ = \"table-body__logo-text\")\n",
    "place = [i.get_text() for i in place]\n",
    "rating = soup.find_all(\"td\" , class_ = \"table-body__cell rating\")\n",
    "rating = [i.get_text() for i in rating]\n",
    "import pandas as pd\n",
    "game = pd.DataFrame({})\n",
    "game[\"country\"] = place\n",
    "game[\"Name\"] = Name\n",
    "game[\"rating\"] = rating"
   ]
  },
  {
   "cell_type": "markdown",
   "metadata": {},
   "source": [
    "# Top 10 rankings in cricket men"
   ]
  },
  {
   "cell_type": "code",
   "execution_count": 49,
   "metadata": {},
   "outputs": [],
   "source": [
    "from bs4 import BeautifulSoup\n",
    "import requests"
   ]
  },
  {
   "cell_type": "code",
   "execution_count": 50,
   "metadata": {},
   "outputs": [],
   "source": [
    "page = requests.get(\"https://www.icc-cricket.com/rankings/mens/team-rankings/odi\")\n",
    "soup = BeautifulSoup(page.content, 'html.parser')\n",
    "ranking_table = soup.find_all(\"div\" , class_ = \"rankings-block__container full rankings-table\")"
   ]
  },
  {
   "cell_type": "code",
   "execution_count": 51,
   "metadata": {},
   "outputs": [],
   "source": [
    "matches = soup.find_all('td' , 'table-body__cell u-center-text')\n",
    "matches = [i.get_text() for i in matches]"
   ]
  },
  {
   "cell_type": "code",
   "execution_count": 52,
   "metadata": {},
   "outputs": [],
   "source": [
    "count = 0\n",
    "points = []\n",
    "Matches = []\n",
    "for i in matches:\n",
    "    if count % 2 == 0:\n",
    "        Matches.append(i)\n",
    "    count += 1\n",
    "for l in matches:\n",
    "    if count % 2 == 1:\n",
    "        points.append(l)\n",
    "    count += 1"
   ]
  },
  {
   "cell_type": "code",
   "execution_count": 66,
   "metadata": {},
   "outputs": [],
   "source": [
    "import pandas as pd\n",
    "game = pd.DataFrame({})\n",
    "game[\"country\"] = country\n",
    "game[\"no of matches played\"] = Matches\n",
    "game[\"points\"] = points\n",
    "game[\"rank\"] = rank"
   ]
  },
  {
   "cell_type": "code",
   "execution_count": 67,
   "metadata": {},
   "outputs": [
    {
     "data": {
      "text/html": [
       "<div>\n",
       "<style scoped>\n",
       "    .dataframe tbody tr th:only-of-type {\n",
       "        vertical-align: middle;\n",
       "    }\n",
       "\n",
       "    .dataframe tbody tr th {\n",
       "        vertical-align: top;\n",
       "    }\n",
       "\n",
       "    .dataframe thead th {\n",
       "        text-align: right;\n",
       "    }\n",
       "</style>\n",
       "<table border=\"1\" class=\"dataframe\">\n",
       "  <thead>\n",
       "    <tr style=\"text-align: right;\">\n",
       "      <th></th>\n",
       "      <th>country</th>\n",
       "      <th>no of matches played</th>\n",
       "      <th>points</th>\n",
       "      <th>rank</th>\n",
       "    </tr>\n",
       "  </thead>\n",
       "  <tbody>\n",
       "    <tr>\n",
       "      <th>0</th>\n",
       "      <td>Australia</td>\n",
       "      <td>25</td>\n",
       "      <td>2,945</td>\n",
       "      <td>118</td>\n",
       "    </tr>\n",
       "    <tr>\n",
       "      <th>1</th>\n",
       "      <td>India</td>\n",
       "      <td>29</td>\n",
       "      <td>3,344</td>\n",
       "      <td>115</td>\n",
       "    </tr>\n",
       "    <tr>\n",
       "      <th>2</th>\n",
       "      <td>England</td>\n",
       "      <td>27</td>\n",
       "      <td>3,100</td>\n",
       "      <td>115</td>\n",
       "    </tr>\n",
       "    <tr>\n",
       "      <th>3</th>\n",
       "      <td>South Africa</td>\n",
       "      <td>20</td>\n",
       "      <td>2,137</td>\n",
       "      <td>107</td>\n",
       "    </tr>\n",
       "    <tr>\n",
       "      <th>4</th>\n",
       "      <td>Pakistan</td>\n",
       "      <td>24</td>\n",
       "      <td>2,323</td>\n",
       "      <td>97</td>\n",
       "    </tr>\n",
       "    <tr>\n",
       "      <th>5</th>\n",
       "      <td>Bangladesh</td>\n",
       "      <td>27</td>\n",
       "      <td>2,438</td>\n",
       "      <td>90</td>\n",
       "    </tr>\n",
       "    <tr>\n",
       "      <th>6</th>\n",
       "      <td>West Indies</td>\n",
       "      <td>27</td>\n",
       "      <td>2,222</td>\n",
       "      <td>82</td>\n",
       "    </tr>\n",
       "    <tr>\n",
       "      <th>7</th>\n",
       "      <td>Sri Lanka</td>\n",
       "      <td>24</td>\n",
       "      <td>1,876</td>\n",
       "      <td>78</td>\n",
       "    </tr>\n",
       "    <tr>\n",
       "      <th>8</th>\n",
       "      <td>Afghanistan</td>\n",
       "      <td>17</td>\n",
       "      <td>1,054</td>\n",
       "      <td>62</td>\n",
       "    </tr>\n",
       "    <tr>\n",
       "      <th>9</th>\n",
       "      <td>Netherlands</td>\n",
       "      <td>7</td>\n",
       "      <td>336</td>\n",
       "      <td>48</td>\n",
       "    </tr>\n",
       "    <tr>\n",
       "      <th>10</th>\n",
       "      <td>Ireland</td>\n",
       "      <td>21</td>\n",
       "      <td>897</td>\n",
       "      <td>43</td>\n",
       "    </tr>\n",
       "    <tr>\n",
       "      <th>11</th>\n",
       "      <td>Zimbabwe</td>\n",
       "      <td>15</td>\n",
       "      <td>588</td>\n",
       "      <td>39</td>\n",
       "    </tr>\n",
       "    <tr>\n",
       "      <th>12</th>\n",
       "      <td>Scotland</td>\n",
       "      <td>7</td>\n",
       "      <td>258</td>\n",
       "      <td>37</td>\n",
       "    </tr>\n",
       "    <tr>\n",
       "      <th>13</th>\n",
       "      <td>Oman</td>\n",
       "      <td>7</td>\n",
       "      <td>240</td>\n",
       "      <td>34</td>\n",
       "    </tr>\n",
       "    <tr>\n",
       "      <th>14</th>\n",
       "      <td>Nepal</td>\n",
       "      <td>5</td>\n",
       "      <td>119</td>\n",
       "      <td>24</td>\n",
       "    </tr>\n",
       "    <tr>\n",
       "      <th>15</th>\n",
       "      <td>UAE</td>\n",
       "      <td>9</td>\n",
       "      <td>190</td>\n",
       "      <td>21</td>\n",
       "    </tr>\n",
       "    <tr>\n",
       "      <th>16</th>\n",
       "      <td>Namibia</td>\n",
       "      <td>6</td>\n",
       "      <td>97</td>\n",
       "      <td>16</td>\n",
       "    </tr>\n",
       "    <tr>\n",
       "      <th>17</th>\n",
       "      <td>United States</td>\n",
       "      <td>8</td>\n",
       "      <td>93</td>\n",
       "      <td>12</td>\n",
       "    </tr>\n",
       "    <tr>\n",
       "      <th>18</th>\n",
       "      <td>Papua New Guinea</td>\n",
       "      <td>5</td>\n",
       "      <td>0</td>\n",
       "      <td>0</td>\n",
       "    </tr>\n",
       "  </tbody>\n",
       "</table>\n",
       "</div>"
      ],
      "text/plain": [
       "             country no of matches played points rank\n",
       "0          Australia                   25  2,945  118\n",
       "1              India                   29  3,344  115\n",
       "2            England                   27  3,100  115\n",
       "3       South Africa                   20  2,137  107\n",
       "4           Pakistan                   24  2,323   97\n",
       "5         Bangladesh                   27  2,438   90\n",
       "6        West Indies                   27  2,222   82\n",
       "7          Sri Lanka                   24  1,876   78\n",
       "8        Afghanistan                   17  1,054   62\n",
       "9        Netherlands                    7    336   48\n",
       "10           Ireland                   21    897   43\n",
       "11          Zimbabwe                   15    588   39\n",
       "12          Scotland                    7    258   37\n",
       "13              Oman                    7    240   34\n",
       "14             Nepal                    5    119   24\n",
       "15               UAE                    9    190   21\n",
       "16           Namibia                    6     97   16\n",
       "17     United States                    8     93   12\n",
       "18  Papua New Guinea                    5      0    0"
      ]
     },
     "execution_count": 67,
     "metadata": {},
     "output_type": "execute_result"
    }
   ],
   "source": [
    "game"
   ]
  },
  {
   "cell_type": "markdown",
   "metadata": {},
   "source": [
    "# Top ODI womens"
   ]
  },
  {
   "cell_type": "code",
   "execution_count": 68,
   "metadata": {},
   "outputs": [],
   "source": [
    "from bs4 import BeautifulSoup\n",
    "import requests\n",
    "page = requests.get(\"https://www.icc-cricket.com/rankings/womens/team-rankings/odi\")\n",
    "soup = BeautifulSoup(page.content, 'html.parser')\n",
    "ranking_table = soup.find_all(\"div\" , class_ = \"rankings-block__container full rankings-table\")\n",
    "matches = soup.find_all('td' , 'table-body__cell u-center-text')\n",
    "matches = [i.get_text() for i in matches]\n",
    "count = 0\n",
    "points = []\n",
    "Matches = []\n",
    "for i in matches:\n",
    "    if count % 2 == 0:\n",
    "        Matches.append(i)\n",
    "    count += 1\n",
    "for l in matches:\n",
    "    if count % 2 == 1:\n",
    "        points.append(l)\n",
    "    count += 1\n",
    "country = soup.find_all('span' , class_ = 'u-hide-phablet')\n",
    "country = [i.get_text() for i in country]"
   ]
  },
  {
   "cell_type": "code",
   "execution_count": 79,
   "metadata": {},
   "outputs": [],
   "source": [
    "ranking = soup.find_all('td' , class_ = 'table-body__cell u-text-right rating')\n",
    "rank = [i.get_text() for i in ranking]\n",
    "import pandas as pd\n",
    "game = pd.DataFrame({})\n",
    "game[\"country\"] = country\n",
    "game[\"no of matches played\"] = Matches\n",
    "game[\"points\"] = points\n",
    "game[\"rank\"] = rank"
   ]
  },
  {
   "cell_type": "markdown",
   "metadata": {},
   "source": [
    "# weather forcast of san fransico"
   ]
  },
  {
   "cell_type": "code",
   "execution_count": 80,
   "metadata": {},
   "outputs": [],
   "source": [
    "from bs4 import BeautifulSoup\n",
    "import requests\n",
    "page = requests.get(\"https://forecast.weather.gov/MapClick.php?lat=37.7772&lon=-122.4168#.YM33g2gzZPY\")\n",
    "soup = BeautifulSoup(page.content, 'html.parser')\n",
    "period = soup.find_all(\"p\" , class_ = \"period-name\")\n",
    "period = [i.get_text() for i in period]\n",
    "weather = soup.find_all(\"p\" , class_ = \"short-desc\")\n",
    "weather = [i.get_text() for i in weather]\n",
    "import pandas as pd\n",
    "game = pd.DataFrame({})\n",
    "game[\"Period\"] = period\n",
    "game[\"weather\"] = weather"
   ]
  },
  {
   "cell_type": "markdown",
   "metadata": {},
   "source": [
    "# Womens all rounder"
   ]
  },
  {
   "cell_type": "code",
   "execution_count": 81,
   "metadata": {},
   "outputs": [],
   "source": [
    "from bs4 import BeautifulSoup\n",
    "import requests\n",
    "page = requests.get(\"https://www.icc-cricket.com/rankings/womens/player-rankings/odi/all-rounder\")\n",
    "soup = BeautifulSoup(page.content, 'html.parser')\n",
    "Name = soup.find_all(\"td\" , class_ = \"table-body__cell rankings-table__name name\")\n",
    "Name = Name[:9]\n",
    "Name = [i.get_text() for i in Name]\n",
    "team = soup.find_all(\"span\" , class_ = \"table-body__logo-text\")\n",
    "team = team[:9]\n",
    "team = [i.get_text() for i in team]\n",
    "rating = soup.find_all(\"td\" , class_ = \"table-body__cell rating\")\n",
    "rating = rating[:9]\n",
    "rating = [i.get_text() for i in rating]\n",
    "import pandas as pd\n",
    "game = pd.DataFrame({})\n",
    "game[\"Name\"] = Name\n",
    "game[\"team\"] = team\n",
    "game[\"rating\"] = rating"
   ]
  },
  {
   "cell_type": "markdown",
   "metadata": {},
   "source": [
    "# Womens bowling"
   ]
  },
  {
   "cell_type": "code",
   "execution_count": 82,
   "metadata": {},
   "outputs": [],
   "source": [
    "from bs4 import BeautifulSoup\n",
    "import requests\n",
    "page = requests.get(\"https://www.icc-cricket.com/rankings/womens/player-rankings/odi/bowling\")\n",
    "soup = BeautifulSoup(page.content, 'html.parser')\n",
    "Name = soup.find_all(\"td\" , class_ = \"table-body__cell rankings-table__name name\")\n",
    "Name = Name[:9]\n",
    "Name = [i.get_text() for i in Name]\n",
    "team = soup.find_all(\"span\" , class_ = \"table-body__logo-text\")\n",
    "team = team[:9]\n",
    "team = [i.get_text() for i in team]\n",
    "rating = soup.find_all(\"td\" , class_ = \"table-body__cell rating\")\n",
    "rating = rating[:9]\n",
    "rating = [i.get_text() for i in rating]\n",
    "import pandas as pd\n",
    "game = pd.DataFrame({})\n",
    "game[\"Name\"] = Name\n",
    "game[\"team\"] = team\n",
    "game[\"rating\"] = rating"
   ]
  },
  {
   "cell_type": "markdown",
   "metadata": {},
   "source": [
    "# Womens batting"
   ]
  },
  {
   "cell_type": "code",
   "execution_count": 83,
   "metadata": {},
   "outputs": [],
   "source": [
    "from bs4 import BeautifulSoup\n",
    "import requests\n",
    "page = requests.get(\"https://www.icc-cricket.com/rankings/womens/player-rankings/odi/batting\")\n",
    "soup = BeautifulSoup(page.content, 'html.parser')\n",
    "Name = soup.find_all(\"td\" , class_ = \"table-body__cell rankings-table__name name\")\n",
    "Name = Name[:9]\n",
    "Name = [i.get_text() for i in Name]\n",
    "team = soup.find_all(\"span\" , class_ = \"table-body__logo-text\")\n",
    "team = team[:9]\n",
    "team = [i.get_text() for i in team]\n",
    "rating = soup.find_all(\"td\" , class_ = \"table-body__cell rating\")\n",
    "rating = rating[:9]\n",
    "rating = [i.get_text() for i in rating]\n",
    "import pandas as pd\n",
    "game = pd.DataFrame({})\n",
    "game[\"Name\"] = Name\n",
    "game[\"team\"] = team\n",
    "game[\"rating\"] = rating"
   ]
  },
  {
   "cell_type": "code",
   "execution_count": null,
   "metadata": {},
   "outputs": [],
   "source": []
  }
 ],
 "metadata": {
  "kernelspec": {
   "display_name": "Python 3",
   "language": "python",
   "name": "python3"
  },
  "language_info": {
   "codemirror_mode": {
    "name": "ipython",
    "version": 3
   },
   "file_extension": ".py",
   "mimetype": "text/x-python",
   "name": "python",
   "nbconvert_exporter": "python",
   "pygments_lexer": "ipython3",
   "version": "3.8.5"
  }
 },
 "nbformat": 4,
 "nbformat_minor": 4
}
